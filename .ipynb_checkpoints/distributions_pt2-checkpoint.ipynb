{
 "cells": [
  {
   "cell_type": "code",
   "execution_count": 51,
   "metadata": {},
   "outputs": [],
   "source": [
    "import pandas as pd\n",
    "import seaborn as sns\n",
    "import numpy as np\n",
    "from scipy import stats\n",
    "np.random.seed(42)"
   ]
  },
  {
   "cell_type": "code",
   "execution_count": 52,
   "metadata": {},
   "outputs": [
    {
     "data": {
      "text/plain": [
       "<matplotlib.axes._subplots.AxesSubplot at 0x1fed5ed8508>"
      ]
     },
     "execution_count": 52,
     "metadata": {},
     "output_type": "execute_result"
    },
    {
     "data": {
      "image/png": "[encoded data removed]",
      "text/plain": [
       "<Figure size 432x288 with 1 Axes>"
      ]
     },
     "metadata": {
      "needs_background": "light"
     },
     "output_type": "display_data"
    }
   ],
   "source": [
    "s = [0,1,2,3,4,5,5]\n",
    "sns.countplot(s) # This shows the counts of each number in the list"
   ]
  },
  {
   "cell_type": "code",
   "execution_count": 3,
   "metadata": {},
   "outputs": [],
   "source": [
    "#Lets pick a bunch of numbers randomly between 0 and 5\n",
    "#We will use np.random.randint\n",
    "# Randint generates a discrete distribution!!!"
   ]
  },
  {
   "cell_type": "code",
   "execution_count": 53,
   "metadata": {},
   "outputs": [
    {
     "data": {
      "text/plain": [
       "array([3, 4, 2, 4, 4, 1, 2, 2, 2, 4])"
      ]
     },
     "execution_count": 53,
     "metadata": {},
     "output_type": "execute_result"
    }
   ],
   "source": [
    "#pick 10 random **integers** from 0 to 5\n",
    "# Randint generates a discrete distribution!!!\n",
    "to_5 = np.random.randint(6, size=10)\n",
    "to_5"
   ]
  },
  {
   "cell_type": "code",
   "execution_count": 54,
   "metadata": {},
   "outputs": [
    {
     "data": {
      "text/plain": [
       "<matplotlib.axes._subplots.AxesSubplot at 0x1fed5f06508>"
      ]
     },
     "execution_count": 54,
     "metadata": {},
     "output_type": "execute_result"
    },
    {
     "data": {
      "image/png": "[encoded data removed]",
      "text/plain": [
       "<Figure size 432x288 with 1 Axes>"
      ]
     },
     "metadata": {
      "needs_background": "light"
     },
     "output_type": "display_data"
    }
   ],
   "source": [
    "sns.countplot(to_5)"
   ]
  },
  {
   "cell_type": "code",
   "execution_count": 6,
   "metadata": {},
   "outputs": [],
   "source": [
    "#pick 20 random **integers** from 0 to 9\n",
    "# Randint generates a discrete distribution!!!\n",
    "to_9 = np.random.randint(10, size=20)"
   ]
  },
  {
   "cell_type": "code",
   "execution_count": 7,
   "metadata": {},
   "outputs": [
    {
     "data": {
      "text/plain": [
       "array([3, 7, 7, 2, 5, 4, 1, 7, 5, 1, 4, 0, 9, 5, 8, 0, 9, 2, 6, 3])"
      ]
     },
     "execution_count": 7,
     "metadata": {},
     "output_type": "execute_result"
    }
   ],
   "source": [
    "to_9"
   ]
  },
  {
   "cell_type": "code",
   "execution_count": 8,
   "metadata": {},
   "outputs": [
    {
     "data": {
      "text/plain": [
       "<matplotlib.axes._subplots.AxesSubplot at 0x1fed373b808>"
      ]
     },
     "execution_count": 8,
     "metadata": {},
     "output_type": "execute_result"
    },
    {
     "data": {
      "image/png": "[encoded data removed]",
      "text/plain": [
       "<Figure size 432x288 with 1 Axes>"
      ]
     },
     "metadata": {
      "needs_background": "light"
     },
     "output_type": "display_data"
    }
   ],
   "source": [
    "sns.countplot(to_9) # this is a plot of the distribution of the 20 numbers in to_9"
   ]
  },
  {
   "cell_type": "code",
   "execution_count": 9,
   "metadata": {},
   "outputs": [],
   "source": [
    "#pick 100 random **integers** from 1 to 6\n",
    "# Randint generates a discrete distribution!!!\n",
    "to_6 = np.random.randint(1,7, size=100)"
   ]
  },
  {
   "cell_type": "code",
   "execution_count": 10,
   "metadata": {},
   "outputs": [
    {
     "data": {
      "text/plain": [
       "array([1, 3, 5, 3, 5, 1, 2, 4, 1, 4, 6, 2, 2, 1, 2, 5, 2, 4, 4, 4, 4, 5,\n",
       "       3, 6, 1, 4, 2, 4, 2, 6, 6, 6, 2, 4, 6, 5, 2, 2, 4, 2, 2, 6, 4, 6,\n",
       "       6, 4, 1, 6, 5, 5, 2, 5, 2, 1, 4, 4, 4, 5, 1, 5, 5, 1, 1, 1, 1, 4,\n",
       "       3, 3, 1, 3, 3, 1, 3, 5, 2, 2, 1, 4, 1, 4, 2, 1, 6, 5, 3, 4, 6, 3,\n",
       "       3, 1, 3, 5, 6, 3, 1, 5, 2, 6, 3, 1])"
      ]
     },
     "execution_count": 10,
     "metadata": {},
     "output_type": "execute_result"
    }
   ],
   "source": [
    "to_6"
   ]
  },
  {
   "cell_type": "code",
   "execution_count": 11,
   "metadata": {},
   "outputs": [
    {
     "data": {
      "text/plain": [
       "<matplotlib.axes._subplots.AxesSubplot at 0x1fed37cf548>"
      ]
     },
     "execution_count": 11,
     "metadata": {},
     "output_type": "execute_result"
    },
    {
     "data": {
      "image/png": "[encoded data removed]",
      "text/plain": [
       "<Figure size 432x288 with 1 Axes>"
      ]
     },
     "metadata": {
      "needs_background": "light"
     },
     "output_type": "display_data"
    }
   ],
   "source": [
    "sns.countplot(to_6) # this is a plot of the distribution of the 100 numbers in to_6"
   ]
  },
  {
   "cell_type": "code",
   "execution_count": 12,
   "metadata": {},
   "outputs": [
    {
     "data": {
      "text/plain": [
       "array([79, 15, 90, 42, 77, 51, 63, 96, 52, 96,  4, 94, 23, 15, 43, 29, 36,\n",
       "       13, 32, 71, 59, 86, 28, 66, 42, 45, 62, 57,  6, 28, 28, 44, 84, 30,\n",
       "       62, 75, 92, 89, 62, 97,  1, 27, 62, 77,  3, 70, 72, 27,  9, 62, 37,\n",
       "       97, 51, 44, 24, 79, 59, 32, 96, 88, 52, 62, 58, 52, 12, 39,  2,  3,\n",
       "       56, 81, 59,  2,  2, 92, 54, 87, 96, 97,  1, 19,  2, 53, 44, 90, 32,\n",
       "       70, 32, 68, 55, 75, 56, 17, 38, 24, 69, 98, 70, 86, 11, 16])"
      ]
     },
     "execution_count": 12,
     "metadata": {},
     "output_type": "execute_result"
    }
   ],
   "source": [
    "#pick 100 random **integers** from 1 to 100\n",
    "# Randint generates a discrete distribution!!!\n",
    "to_100 = np.random.randint(1,101, size=100)\n",
    "to_100"
   ]
  },
  {
   "cell_type": "code",
   "execution_count": 13,
   "metadata": {},
   "outputs": [
    {
     "data": {
      "text/plain": [
       "array([ 97,  73,  59,  70,  80,  93,   3,  20,  59,  36,  19,  90,  67,\n",
       "        19,  20,  96,  71,  52,  33,  40,  39,  82,   1,  11,  92,  57,\n",
       "        89,  50,  23,  31,  94,  42,  99,   7,  16,  90,  60,   2,   1,\n",
       "        48,  12,  69,  37,  32,   9,  99,  19,  48,  80,   3,  20,  24,\n",
       "        54,  33,  24,  75,  72,  36,  38,  84,  99,  89,  99,  25,  93,\n",
       "        18,  82,  66,  54,  35,  80,  61,  41, 100,  33,  68,  33,  14,\n",
       "        21,  48,  20,   8,   7,  67,  17,  33,  48,  76,  59,  86,  22,\n",
       "        30,  38,  51,  54,   8,  27,  27,  98,  21])"
      ]
     },
     "execution_count": 13,
     "metadata": {},
     "output_type": "execute_result"
    }
   ],
   "source": [
    "# Side Note: if I run np.random.randint(1,101, size=100) again, \n",
    "#I'll of course get a completely different set of random numbers\n",
    "\n",
    "np.random.randint(1,101, size=100)"
   ]
  },
  {
   "cell_type": "code",
   "execution_count": 14,
   "metadata": {},
   "outputs": [
    {
     "name": "stdout",
     "output_type": "stream",
     "text": [
      "For the number 1, count = 2\n",
      "For the number 2, count = 4\n",
      "For the number 3, count = 2\n",
      "For the number 4, count = 1\n",
      "For the number 5, count = 0\n",
      "For the number 6, count = 1\n",
      "For the number 7, count = 0\n",
      "For the number 8, count = 0\n",
      "For the number 9, count = 1\n",
      "For the number 10, count = 0\n",
      "For the number 11, count = 1\n",
      "For the number 12, count = 1\n",
      "For the number 13, count = 1\n",
      "For the number 14, count = 0\n",
      "For the number 15, count = 2\n",
      "For the number 16, count = 1\n",
      "For the number 17, count = 1\n",
      "For the number 18, count = 0\n",
      "For the number 19, count = 1\n",
      "For the number 20, count = 0\n",
      "For the number 21, count = 0\n",
      "For the number 22, count = 0\n",
      "For the number 23, count = 1\n",
      "For the number 24, count = 2\n",
      "For the number 25, count = 0\n",
      "For the number 26, count = 0\n",
      "For the number 27, count = 2\n",
      "For the number 28, count = 3\n",
      "For the number 29, count = 1\n",
      "For the number 30, count = 1\n",
      "For the number 31, count = 0\n",
      "For the number 32, count = 4\n",
      "For the number 33, count = 0\n",
      "For the number 34, count = 0\n",
      "For the number 35, count = 0\n",
      "For the number 36, count = 1\n",
      "For the number 37, count = 1\n",
      "For the number 38, count = 1\n",
      "For the number 39, count = 1\n",
      "For the number 40, count = 0\n",
      "For the number 41, count = 0\n",
      "For the number 42, count = 2\n",
      "For the number 43, count = 1\n",
      "For the number 44, count = 3\n",
      "For the number 45, count = 1\n",
      "For the number 46, count = 0\n",
      "For the number 47, count = 0\n",
      "For the number 48, count = 0\n",
      "For the number 49, count = 0\n",
      "For the number 50, count = 0\n",
      "For the number 51, count = 2\n",
      "For the number 52, count = 3\n",
      "For the number 53, count = 1\n",
      "For the number 54, count = 1\n",
      "For the number 55, count = 1\n",
      "For the number 56, count = 2\n",
      "For the number 57, count = 1\n",
      "For the number 58, count = 1\n",
      "For the number 59, count = 3\n",
      "For the number 60, count = 0\n",
      "For the number 61, count = 0\n",
      "For the number 62, count = 6\n",
      "For the number 63, count = 1\n",
      "For the number 64, count = 0\n",
      "For the number 65, count = 0\n",
      "For the number 66, count = 1\n",
      "For the number 67, count = 0\n",
      "For the number 68, count = 1\n",
      "For the number 69, count = 1\n",
      "For the number 70, count = 3\n",
      "For the number 71, count = 1\n",
      "For the number 72, count = 1\n",
      "For the number 73, count = 0\n",
      "For the number 74, count = 0\n",
      "For the number 75, count = 2\n",
      "For the number 76, count = 0\n",
      "For the number 77, count = 2\n",
      "For the number 78, count = 0\n",
      "For the number 79, count = 2\n",
      "For the number 80, count = 0\n",
      "For the number 81, count = 1\n",
      "For the number 82, count = 0\n",
      "For the number 83, count = 0\n",
      "For the number 84, count = 1\n",
      "For the number 85, count = 0\n",
      "For the number 86, count = 2\n",
      "For the number 87, count = 1\n",
      "For the number 88, count = 1\n",
      "For the number 89, count = 1\n",
      "For the number 90, count = 2\n",
      "For the number 91, count = 0\n",
      "For the number 92, count = 2\n",
      "For the number 93, count = 0\n",
      "For the number 94, count = 1\n",
      "For the number 95, count = 0\n",
      "For the number 96, count = 4\n",
      "For the number 97, count = 3\n",
      "For the number 98, count = 1\n",
      "For the number 99, count = 0\n",
      "For the number 100, count = 0\n"
     ]
    }
   ],
   "source": [
    "# we drew 100 numbers from the integers from 1 to 100\n",
    "# but just like before, some numbers we missed, and some we drew more than once!\n",
    "#let's organize the counts and take a look at them\n",
    "\n",
    "from collections import Counter\n",
    "c = Counter(to_100)\n",
    "\n",
    "for i in range(1,101):\n",
    "    print(f\"For the number {i}, count = {c[i]}\")"
   ]
  },
  {
   "cell_type": "code",
   "execution_count": 15,
   "metadata": {},
   "outputs": [
    {
     "data": {
      "text/plain": [
       "<matplotlib.axes._subplots.AxesSubplot at 0x1fed38618c8>"
      ]
     },
     "execution_count": 15,
     "metadata": {},
     "output_type": "execute_result"
    },
    {
     "data": {
      "image/png": "[encoded data removed]",
      "text/plain": [
       "<Figure size 432x288 with 1 Axes>"
      ]
     },
     "metadata": {
      "needs_background": "light"
     },
     "output_type": "display_data"
    }
   ],
   "source": [
    "\n",
    "#Let's try to plot the distribution of the 100 numbers in to_100\n",
    "\n",
    "sns.countplot(to_100) #doesn't look very nice! The x axis labels are messed up. "
   ]
  },
  {
   "cell_type": "code",
   "execution_count": 16,
   "metadata": {},
   "outputs": [
    {
     "data": {
      "text/plain": [
       "<matplotlib.axes._subplots.AxesSubplot at 0x1fed382f088>"
      ]
     },
     "execution_count": 16,
     "metadata": {},
     "output_type": "execute_result"
    },
    {
     "data": {
      "image/png": "[encoded data removed]",
      "text/plain": [
       "<Figure size 432x288 with 1 Axes>"
      ]
     },
     "metadata": {
      "needs_background": "light"
     },
     "output_type": "display_data"
    }
   ],
   "source": [
    "#Instead of fixing it ourselves, let's try `distplot` instead\n",
    "#distplot will graphs the realized values we got from running \n",
    "#to_100 = np.random.randint(1,101, size=100) in a nicer way, I hope!\n",
    "\n",
    "sns.distplot(to_100) #still ugly! The bins do not look good. Also that smooth kde curve is distracting"
   ]
  },
  {
   "cell_type": "code",
   "execution_count": 17,
   "metadata": {},
   "outputs": [
    {
     "data": {
      "text/plain": [
       "<matplotlib.axes._subplots.AxesSubplot at 0x1fed3a8c948>"
      ]
     },
     "execution_count": 17,
     "metadata": {},
     "output_type": "execute_result"
    },
    {
     "data": {
      "image/png": "[encoded data removed]",
      "text/plain": [
       "<Figure size 432x288 with 1 Axes>"
      ]
     },
     "metadata": {
      "needs_background": "light"
     },
     "output_type": "display_data"
    }
   ],
   "source": [
    "#the dictionary d contains params needed by distplot so it behaves how I want it to.\n",
    "#in particular, norm_hist=True makes the y axis into a  probability that sums to 1!\n",
    "d = dict(kde=False, norm_hist=True)\n",
    "\n",
    "sns.distplot(to_100,bins=100, **d ) #much better! I can see the zeros now. But still not quite right."
   ]
  },
  {
   "cell_type": "code",
   "execution_count": 18,
   "metadata": {},
   "outputs": [
    {
     "data": {
      "text/plain": [
       "array([  1,   2,   3,   4,   5,   6,   7,   8,   9,  10,  11,  12,  13,\n",
       "        14,  15,  16,  17,  18,  19,  20,  21,  22,  23,  24,  25,  26,\n",
       "        27,  28,  29,  30,  31,  32,  33,  34,  35,  36,  37,  38,  39,\n",
       "        40,  41,  42,  43,  44,  45,  46,  47,  48,  49,  50,  51,  52,\n",
       "        53,  54,  55,  56,  57,  58,  59,  60,  61,  62,  63,  64,  65,\n",
       "        66,  67,  68,  69,  70,  71,  72,  73,  74,  75,  76,  77,  78,\n",
       "        79,  80,  81,  82,  83,  84,  85,  86,  87,  88,  89,  90,  91,\n",
       "        92,  93,  94,  95,  96,  97,  98,  99, 100])"
      ]
     },
     "execution_count": 18,
     "metadata": {},
     "output_type": "execute_result"
    }
   ],
   "source": [
    "np.arange(1,101)"
   ]
  },
  {
   "cell_type": "code",
   "execution_count": 19,
   "metadata": {},
   "outputs": [
    {
     "data": {
      "text/plain": [
       "<matplotlib.axes._subplots.AxesSubplot at 0x1fed392c588>"
      ]
     },
     "execution_count": 19,
     "metadata": {},
     "output_type": "execute_result"
    },
    {
     "data": {
      "image/png": "[encoded data removed]",
      "text/plain": [
       "<Figure size 432x288 with 1 Axes>"
      ]
     },
     "metadata": {
      "needs_background": "light"
     },
     "output_type": "display_data"
    }
   ],
   "source": [
    "'''\n",
    "This is actually the correct way to do the bins \n",
    "You have to tell seaborn EXACTLY where you want them and how many you want(don't ask). \n",
    "If you compare it to the Counter we did above you'll see the percentages match up perfectly and add up to 100.\n",
    "'''\n",
    "\n",
    "sns.distplot(to_100,bins=np.arange(1,101), **d ) "
   ]
  },
  {
   "cell_type": "code",
   "execution_count": null,
   "metadata": {},
   "outputs": [],
   "source": []
  },
  {
   "cell_type": "code",
   "execution_count": null,
   "metadata": {},
   "outputs": [],
   "source": []
  },
  {
   "cell_type": "markdown",
   "metadata": {},
   "source": [
    "## Continuous Distributions"
   ]
  },
  {
   "cell_type": "markdown",
   "metadata": {},
   "source": [
    "### Uniform Distribution"
   ]
  },
  {
   "cell_type": "code",
   "execution_count": 20,
   "metadata": {},
   "outputs": [
    {
     "data": {
      "text/plain": [
       "array([3.51318547, 3.88451942, 3.46258847, 1.97621494, 4.61226058,\n",
       "       2.40386181, 1.12157983, 4.22736148, 1.8855534 , 5.70229292,\n",
       "       5.76964289, 5.57432195, 2.8507935 , 1.07728308, 5.64159281,\n",
       "       3.14092074, 5.8332741 , 5.81809989, 5.26504728, 2.47224446,\n",
       "       2.92548864, 5.25568336, 2.58461003, 1.84746373, 3.78400631,\n",
       "       5.68077387, 4.48014898, 3.85030585, 1.48588247, 4.07503613,\n",
       "       5.95026925, 1.70042008, 3.59164826, 5.38686536, 4.70384309,\n",
       "       4.4850787 , 4.51242042, 2.79745576, 2.46795922, 5.04680578,\n",
       "       5.05056697, 5.33536159, 5.56620276, 3.55671199, 3.50758147,\n",
       "       4.99147589, 4.24981965, 4.50983439, 4.97896335, 5.45002671,\n",
       "       2.68997578, 2.87791476, 1.4699097 , 3.8914007 , 1.17971137,\n",
       "       3.32799009, 3.71322317, 2.43270626, 3.9541663 , 1.15250125,\n",
       "       1.18674094, 5.1130028 , 2.80095321, 1.63530256, 3.6112163 ,\n",
       "       4.84996777, 2.07910514, 4.11445238, 1.42673732, 1.25840861,\n",
       "       3.65677316, 3.70317561, 4.18714951, 4.63045667, 5.8792604 ,\n",
       "       3.58150174, 2.61478236, 4.97593097, 2.35416126, 3.1948571 ,\n",
       "       1.39228191, 1.12675372, 5.81324207, 5.1799006 , 4.47987103,\n",
       "       3.04476472, 1.8664716 , 1.78218521, 2.25121449, 3.74613332,\n",
       "       4.57297961, 4.30098688, 2.39966948, 5.7743264 , 4.68948458,\n",
       "       3.77177026, 4.05860373, 3.09800031, 2.23865495, 2.77986339])"
      ]
     },
     "execution_count": 20,
     "metadata": {},
     "output_type": "execute_result"
    }
   ],
   "source": [
    "#pick 100 random REAL numbers from 1 to 6, inclusive of 1, exclusive of 6\n",
    "# The uniform distribution is continuous!!!!!!!!!!!\n",
    "np.random.uniform(1,6, size=100) "
   ]
  },
  {
   "cell_type": "code",
   "execution_count": null,
   "metadata": {},
   "outputs": [],
   "source": []
  },
  {
   "cell_type": "markdown",
   "metadata": {},
   "source": [
    "### Beta Distribution"
   ]
  },
  {
   "cell_type": "code",
   "execution_count": 21,
   "metadata": {},
   "outputs": [],
   "source": [
    "# * Beta distribution is defined between 0 and 1, inclusive of both!\n",
    "# The Beta distribution is continuous!!!"
   ]
  },
  {
   "cell_type": "code",
   "execution_count": 22,
   "metadata": {},
   "outputs": [],
   "source": [
    "b1_1 = np.random.beta(a=1,b=1, size=200)\n",
    "\n",
    "b10_10 = np.random.beta(a=10,b=10, size=200)"
   ]
  },
  {
   "cell_type": "code",
   "execution_count": 23,
   "metadata": {},
   "outputs": [
    {
     "data": {
      "text/plain": [
       "array([0.98136137, 0.71616497, 0.04544665, 0.16597532, 0.73216495,\n",
       "       0.52123304, 0.10788811, 0.69778249, 0.96036762, 0.59718539,\n",
       "       0.40767359, 0.16173488, 0.90560981, 0.02777941, 0.70460241,\n",
       "       0.19119522, 0.52587162, 0.87976231, 0.01182866, 0.22232491,\n",
       "       0.6046541 , 0.89645369, 0.89572293, 0.55448633, 0.45015613,\n",
       "       0.54593186, 0.9059584 , 0.48950296, 0.09702079, 0.56827735,\n",
       "       0.97747198, 0.89274829, 0.5027326 , 0.56748474, 0.98753869,\n",
       "       0.9519901 , 0.69094493, 0.28860926, 0.37710681, 0.63396542,\n",
       "       0.95037909, 0.06545429, 0.20202454, 0.53048833, 0.82905253,\n",
       "       0.35442163, 0.7261164 , 0.75926923, 0.75066846, 0.03671635,\n",
       "       0.60962621, 0.03983397, 0.60063192, 0.40389389, 0.35998263,\n",
       "       0.34168349, 0.75993297, 0.50162281, 0.52248741, 0.77893769,\n",
       "       0.47261566, 0.19479456, 0.61147901, 0.42372795, 0.69070626,\n",
       "       0.41981706, 0.94612613, 0.08558129, 0.93779934, 0.80218178,\n",
       "       0.36105827, 0.4437    , 0.9532194 , 0.26137965, 0.83235657,\n",
       "       0.45652943, 0.47384013, 0.94948804, 0.60367903, 0.73223121,\n",
       "       0.85151032, 0.31014556, 0.61580934, 0.69976492, 0.38328153,\n",
       "       0.46272747, 0.62184208, 0.91787737, 0.56102982, 0.60146593,\n",
       "       0.36623327, 0.45596473, 0.67855023, 0.67903212, 0.79015427,\n",
       "       0.13341871, 0.67958399, 0.54139075, 0.73157693, 0.85760777,\n",
       "       0.7977446 , 0.49907012, 0.5931147 , 0.44894421, 0.68403559,\n",
       "       0.84227182, 0.70628717, 0.83869044, 0.55643669, 0.95687029,\n",
       "       0.88128229, 0.86910021, 0.39538437, 0.68308167, 0.65560424,\n",
       "       0.46456286, 0.97123379, 0.20929378, 0.87062292, 0.87931701,\n",
       "       0.01369889, 0.42559201, 0.66814824, 0.7625858 , 0.26140903,\n",
       "       0.38430617, 0.9797098 , 0.78844866, 0.82929172, 0.8987466 ,\n",
       "       0.78131783, 0.83915645, 0.07810961, 0.46363764, 0.52376617,\n",
       "       0.7828445 , 0.29597856, 0.94152233, 0.17904845, 0.96050262,\n",
       "       0.48995398, 0.97150023, 0.11516122, 0.21478004, 0.7054672 ,\n",
       "       0.25187729, 0.41150596, 0.98570177, 0.2914453 , 0.12757852,\n",
       "       0.5685199 , 0.39144058, 0.30044818, 0.42582338, 0.59694926,\n",
       "       0.07717522, 0.64919254, 0.75381875, 0.93673614, 0.6777988 ,\n",
       "       0.0743557 , 0.79132601, 0.42473907, 0.22023969, 0.8991284 ,\n",
       "       0.71084413, 0.57419134, 0.3440795 , 0.8733029 , 0.30590366,\n",
       "       0.09387835, 0.64101745, 0.87852196, 0.0935333 , 0.63829799,\n",
       "       0.71852149, 0.62050866, 0.70666839, 0.68871555, 0.05292175,\n",
       "       0.04641447, 0.95726222, 0.72163287, 0.61040316, 0.91728335,\n",
       "       0.36885484, 0.72554989, 0.02727869, 0.02373895, 0.45580396,\n",
       "       0.49786073, 0.75544135, 0.23752956, 0.49222931, 0.84732301,\n",
       "       0.52674948, 0.75692883, 0.17635592, 0.6896923 , 0.44463904])"
      ]
     },
     "execution_count": 23,
     "metadata": {},
     "output_type": "execute_result"
    }
   ],
   "source": [
    "b1_1 # 200 numbers drawn from a beta distribution with a = 1 and b = 1"
   ]
  },
  {
   "cell_type": "code",
   "execution_count": 24,
   "metadata": {},
   "outputs": [
    {
     "data": {
      "text/plain": [
       "array([0.59407831, 0.56975186, 0.55777993, 0.59593875, 0.42529888,\n",
       "       0.46013005, 0.45303944, 0.4302628 , 0.24834227, 0.68702646,\n",
       "       0.49488059, 0.47654754, 0.46303466, 0.53974302, 0.50137422,\n",
       "       0.68439334, 0.66865915, 0.55391364, 0.70459448, 0.48184331,\n",
       "       0.45643032, 0.45032202, 0.57196645, 0.66730616, 0.57212249,\n",
       "       0.40168664, 0.6146298 , 0.50739803, 0.55371529, 0.47727604,\n",
       "       0.44200228, 0.4430678 , 0.63275929, 0.4317147 , 0.50894535,\n",
       "       0.49855154, 0.55151319, 0.5891556 , 0.36765645, 0.40942299,\n",
       "       0.29380998, 0.57167972, 0.51754888, 0.36645686, 0.52665799,\n",
       "       0.30979107, 0.57575787, 0.57313798, 0.5410649 , 0.7275782 ,\n",
       "       0.26828522, 0.5879222 , 0.46116517, 0.65320154, 0.56089302,\n",
       "       0.76144887, 0.4117369 , 0.36365225, 0.41789553, 0.48889905,\n",
       "       0.6726943 , 0.46304999, 0.52931445, 0.66246688, 0.46975727,\n",
       "       0.32177061, 0.56341895, 0.62201386, 0.46499551, 0.46077371,\n",
       "       0.4896268 , 0.71253832, 0.75759684, 0.52814883, 0.40420271,\n",
       "       0.4254185 , 0.67517529, 0.5961847 , 0.61459769, 0.446924  ,\n",
       "       0.43572187, 0.44845848, 0.44754055, 0.58826803, 0.49116928,\n",
       "       0.46173994, 0.64421084, 0.48042154, 0.39206989, 0.2965194 ,\n",
       "       0.56512746, 0.54609581, 0.61461662, 0.58750978, 0.5806898 ,\n",
       "       0.44267888, 0.53021785, 0.32377016, 0.45701888, 0.53424373,\n",
       "       0.44465561, 0.41835016, 0.31670298, 0.28492431, 0.42286368,\n",
       "       0.44333543, 0.51130836, 0.32556566, 0.36402112, 0.55966432,\n",
       "       0.54979148, 0.50416722, 0.42462853, 0.60772524, 0.34499234,\n",
       "       0.6312906 , 0.52733856, 0.43180109, 0.51911666, 0.37425949,\n",
       "       0.62061237, 0.47846864, 0.6335459 , 0.41856461, 0.40028973,\n",
       "       0.38515858, 0.53593544, 0.54388247, 0.64464741, 0.46705867,\n",
       "       0.34318683, 0.70040755, 0.46542491, 0.75565553, 0.48100862,\n",
       "       0.44678905, 0.54159781, 0.44252927, 0.58177664, 0.65386854,\n",
       "       0.52491218, 0.33792645, 0.59008265, 0.49007722, 0.48870999,\n",
       "       0.59883625, 0.6979702 , 0.44105185, 0.43027829, 0.4120463 ,\n",
       "       0.54858276, 0.65850758, 0.52364784, 0.57412837, 0.54485843,\n",
       "       0.56500597, 0.39509306, 0.57578319, 0.47008888, 0.39587974,\n",
       "       0.69363064, 0.57713823, 0.3488461 , 0.49504789, 0.4626552 ,\n",
       "       0.45669716, 0.36660318, 0.53101941, 0.51005894, 0.4906158 ,\n",
       "       0.23429404, 0.44891323, 0.59900102, 0.47369333, 0.33137482,\n",
       "       0.41042858, 0.58526146, 0.71943216, 0.47410004, 0.46018036,\n",
       "       0.5204786 , 0.30381028, 0.34465857, 0.68148951, 0.47903476,\n",
       "       0.69894308, 0.62981357, 0.47395722, 0.57312293, 0.43053027,\n",
       "       0.44856305, 0.44300003, 0.48083418, 0.49976728, 0.58696693,\n",
       "       0.40115457, 0.52893002, 0.53528297, 0.49537528, 0.46546025])"
      ]
     },
     "execution_count": 24,
     "metadata": {},
     "output_type": "execute_result"
    }
   ],
   "source": [
    "b10_10 # 200 numbers drawn from a beta distribution with a = 10 and b = 10"
   ]
  },
  {
   "cell_type": "code",
   "execution_count": 25,
   "metadata": {},
   "outputs": [
    {
     "data": {
      "text/plain": [
       "<matplotlib.axes._subplots.AxesSubplot at 0x1fed3d82748>"
      ]
     },
     "execution_count": 25,
     "metadata": {},
     "output_type": "execute_result"
    },
    {
     "data": {
      "image/png": "[encoded data removed]",
      "text/plain": [
       "<Figure size 432x288 with 1 Axes>"
      ]
     },
     "metadata": {
      "needs_background": "light"
     },
     "output_type": "display_data"
    }
   ],
   "source": [
    "sns.distplot(b1_1, **d, fit=stats.beta)"
   ]
  },
  {
   "cell_type": "code",
   "execution_count": 26,
   "metadata": {},
   "outputs": [
    {
     "data": {
      "text/plain": [
       "<matplotlib.axes._subplots.AxesSubplot at 0x1fed3ddcd48>"
      ]
     },
     "execution_count": 26,
     "metadata": {},
     "output_type": "execute_result"
    },
    {
     "data": {
      "image/png": "[encoded data removed]",
      "text/plain": [
       "<Figure size 432x288 with 1 Axes>"
      ]
     },
     "metadata": {
      "needs_background": "light"
     },
     "output_type": "display_data"
    }
   ],
   "source": [
    "sns.distplot(b10_10,fit=stats.beta, **d)"
   ]
  },
  {
   "cell_type": "code",
   "execution_count": 27,
   "metadata": {},
   "outputs": [],
   "source": [
    "b100_100 = np.random.beta(a=100,b=100, size=200)"
   ]
  },
  {
   "cell_type": "code",
   "execution_count": 28,
   "metadata": {},
   "outputs": [
    {
     "data": {
      "text/plain": [
       "<matplotlib.axes._subplots.AxesSubplot at 0x1fed3e8b948>"
      ]
     },
     "execution_count": 28,
     "metadata": {},
     "output_type": "execute_result"
    },
    {
     "data": {
      "image/png": "[encoded data removed]",
      "text/plain": [
       "<Figure size 432x288 with 1 Axes>"
      ]
     },
     "metadata": {
      "needs_background": "light"
     },
     "output_type": "display_data"
    }
   ],
   "source": [
    "sns.distplot(b100_100, fit=stats.beta, **d)"
   ]
  },
  {
   "cell_type": "markdown",
   "metadata": {},
   "source": [
    "## Binomial distribution "
   ]
  },
  {
   "cell_type": "code",
   "execution_count": null,
   "metadata": {},
   "outputs": [],
   "source": []
  },
  {
   "cell_type": "code",
   "execution_count": 29,
   "metadata": {},
   "outputs": [
    {
     "data": {
      "text/plain": [
       "array([1, 0, 0, 1, 1, 1, 1, 0, 1, 1, 0, 1, 1, 0, 1, 1, 1, 0, 0, 1, 0, 1,\n",
       "       1, 0, 1, 1, 0, 1, 1, 1, 1, 0, 1, 1, 1, 1, 0, 1, 0, 0, 0, 1, 1, 1,\n",
       "       1, 1, 1, 0, 0, 0, 1, 1, 0, 0, 1, 0, 1, 1, 0, 0, 1, 1, 1, 1, 0, 1,\n",
       "       1, 1, 0, 1, 1, 0, 0, 1, 0, 0, 0, 1, 1, 1, 0, 1, 1, 1, 1, 0, 1, 0,\n",
       "       1, 0, 0, 0, 1, 0, 1, 0, 0, 1, 0, 0])"
      ]
     },
     "execution_count": 29,
     "metadata": {},
     "output_type": "execute_result"
    }
   ],
   "source": [
    "'''number of heads of 1 flip of a fair coin, \n",
    "prob of heads = 0.5, \n",
    "repeated 100 times\n",
    "\n",
    "or, 100 draws from a binomial distribution \n",
    "with n=1\n",
    "and probability of success = 0.5\n",
    "'''\n",
    "b1 = np.random.binomial(n=1, p=0.5, size=100)\n",
    "b1"
   ]
  },
  {
   "cell_type": "code",
   "execution_count": 30,
   "metadata": {},
   "outputs": [
    {
     "data": {
      "text/plain": [
       "array([1, 1, 0, 1, 2, 1, 1, 1, 0, 1, 2, 0, 1, 1, 1, 2, 0, 1, 0, 2, 0, 1,\n",
       "       1, 1, 1, 1, 1, 1, 0, 1, 1, 1, 1, 2, 1, 0, 0, 2, 1, 0, 1, 1, 1, 1,\n",
       "       0, 2, 1, 1, 1, 1, 1, 1, 1, 2, 2, 0, 0, 2, 1, 2, 0, 1, 1, 1, 1, 0,\n",
       "       1, 1, 1, 2, 1, 2, 0, 1, 2, 0, 0, 1, 0, 1, 2, 1, 1, 1, 1, 0, 1, 1,\n",
       "       1, 0, 1, 0, 0, 2, 1, 0, 0, 0, 1, 0])"
      ]
     },
     "execution_count": 30,
     "metadata": {},
     "output_type": "execute_result"
    }
   ],
   "source": [
    "'''\n",
    "number of heads of 2 flips of a fair coin, \n",
    "prob of heads = 0.5, \n",
    "repeated 100 times\n",
    "\n",
    "or, 100 draws from a binomial distribution \n",
    "with n=2 \n",
    "and probability of success = 0.5\n",
    "'''\n",
    "b2= np.random.binomial(n=2, p=0.5, size=100)\n",
    "b2"
   ]
  },
  {
   "cell_type": "code",
   "execution_count": 31,
   "metadata": {},
   "outputs": [
    {
     "data": {
      "text/plain": [
       "array([0, 1, 2, 2, 2, 0, 3, 2, 2, 2, 3, 2, 1, 2, 2, 2, 2, 0, 1, 3, 2, 2,\n",
       "       1, 1, 3, 2, 2, 1, 2, 1, 2, 1, 1, 2, 3, 0, 2, 1, 1, 0, 1, 2, 0, 1,\n",
       "       3, 0, 2, 1, 2, 1, 1, 1, 0, 1, 2, 3, 2, 2, 0, 1, 1, 1, 2, 2, 1, 1,\n",
       "       2, 2, 1, 3, 3, 1, 1, 2, 3, 3, 0, 1, 2, 2, 1, 2, 2, 2, 2, 2, 1, 2,\n",
       "       1, 2, 1, 2, 1, 0, 1, 0, 2, 2, 2, 1])"
      ]
     },
     "execution_count": 31,
     "metadata": {},
     "output_type": "execute_result"
    }
   ],
   "source": [
    "'''\n",
    "number of heads of 3 flips of a fair coin, \n",
    "prob of heads = 0.5, \n",
    "repeated 100 times\n",
    "\n",
    "or, 100 draws from a binomial distribution \n",
    "with n=3 \n",
    "and probability of success = 0.5\n",
    "'''\n",
    "b3= np.random.binomial(n=3, p=0.5, size=100)\n",
    "b3"
   ]
  },
  {
   "cell_type": "code",
   "execution_count": 32,
   "metadata": {},
   "outputs": [
    {
     "data": {
      "text/plain": [
       "array([1, 0, 1, 4, 2, 2, 1, 2, 3, 3, 2, 1, 2, 2, 2, 4, 3, 3, 2, 2, 3, 3,\n",
       "       3, 1, 3, 2, 4, 3, 3, 1, 3, 1, 2, 1, 3, 2, 2, 4, 2, 3, 2, 0, 3, 1,\n",
       "       2, 3, 3, 3, 2, 0, 3, 3, 4, 4, 4, 2, 2, 3, 2, 1, 4, 4, 2, 1, 2, 3,\n",
       "       4, 2, 1, 4, 2, 3, 4, 1, 3, 1, 2, 3, 2, 5, 3, 2, 2, 2, 2, 1, 2, 2,\n",
       "       3, 3, 3, 0, 2, 3, 2, 0, 3, 3, 3, 1])"
      ]
     },
     "execution_count": 32,
     "metadata": {},
     "output_type": "execute_result"
    }
   ],
   "source": [
    "'''\n",
    "number of heads of 5 flips of a fair coin, \n",
    "prob of heads = 0.5, \n",
    "repeated 100 times\n",
    "\n",
    "or, 100 draws from a binomial distribution \n",
    "with n=5 \n",
    "and probability of success = 0.5\n",
    "'''\n",
    "b5= np.random.binomial(n=5, p=0.5, size=100)\n",
    "b5"
   ]
  },
  {
   "cell_type": "code",
   "execution_count": 33,
   "metadata": {},
   "outputs": [
    {
     "data": {
      "text/plain": [
       "array([47, 52, 41, 40, 49, 53, 54, 50, 53, 56, 60, 54, 48, 49, 49, 55, 46,\n",
       "       53, 48, 43, 50, 45, 48, 50, 50, 41, 54, 57, 47, 50, 54, 55, 40, 54,\n",
       "       52, 49, 59, 52, 46, 47, 64, 54, 47, 58, 44, 60, 43, 48, 47, 56, 47,\n",
       "       46, 41, 41, 47, 49, 58, 56, 48, 50, 50, 54, 52, 48, 54, 53, 52, 51,\n",
       "       47, 50, 36, 47, 51, 56, 47, 51, 48, 49, 48, 51, 50, 49, 55, 51, 50,\n",
       "       51, 48, 51, 53, 57, 47, 50, 56, 56, 47, 52, 43, 54, 42, 48])"
      ]
     },
     "execution_count": 33,
     "metadata": {},
     "output_type": "execute_result"
    }
   ],
   "source": [
    "'''\n",
    "number of heads of 100 flips of a fair coin, \n",
    "prob of heads = 0.5, \n",
    "repeated 100 times\n",
    "\n",
    "or, 100 draws from a binomial distribution \n",
    "with n=100 \n",
    "and probability of success = 0.5\n",
    "\n",
    "'''\n",
    "b100= np.random.binomial(n=100, p=0.5, size=100)\n",
    "b100"
   ]
  },
  {
   "cell_type": "code",
   "execution_count": 34,
   "metadata": {},
   "outputs": [],
   "source": [
    "'''\n",
    "number of heads of 100 flips of a fair coin, \n",
    "prob of heads = 0.5, \n",
    "repeated 1,000,000 times\n",
    "\n",
    "or, 1,000,000 draws from a binomial distribution \n",
    "with n=100 \n",
    "and probability of success = 0.5\n",
    "\n",
    "\n",
    "'''\n",
    "b100_new= np.random.binomial(n=100, p=0.5, size=1000000)"
   ]
  },
  {
   "cell_type": "code",
   "execution_count": 35,
   "metadata": {},
   "outputs": [
    {
     "data": {
      "text/plain": [
       "<matplotlib.axes._subplots.AxesSubplot at 0x1fed3d758c8>"
      ]
     },
     "execution_count": 35,
     "metadata": {},
     "output_type": "execute_result"
    },
    {
     "data": {
      "image/png": "[encoded data removed]",
      "text/plain": [
       "<Figure size 432x288 with 1 Axes>"
      ]
     },
     "metadata": {
      "needs_background": "light"
     },
     "output_type": "display_data"
    }
   ],
   "source": [
    "sns.distplot(b100_new, **d)"
   ]
  },
  {
   "cell_type": "code",
   "execution_count": null,
   "metadata": {},
   "outputs": [],
   "source": []
  },
  {
   "cell_type": "markdown",
   "metadata": {},
   "source": [
    "**Normal Distributions"
   ]
  },
  {
   "cell_type": "code",
   "execution_count": 36,
   "metadata": {},
   "outputs": [
    {
     "data": {
      "text/plain": [
       "\u001b[1;31mDocstring:\u001b[0m\n",
       "normal(loc=0.0, scale=1.0, size=None)\n",
       "\n",
       "Draw random samples from a normal (Gaussian) distribution.\n",
       "\n",
       "The probability density function of the normal distribution, first\n",
       "derived by De Moivre and 200 years later by both Gauss and Laplace\n",
       "independently [2]_, is often called the bell curve because of\n",
       "its characteristic shape (see the example below).\n",
       "\n",
       "The normal distributions occurs often in nature.  For example, it\n",
       "describes the commonly occurring distribution of samples influenced\n",
       "by a large number of tiny, random disturbances, each with its own\n",
       "unique distribution [2]_.\n",
       "\n",
       ".. note::\n",
       "    New code should use the ``normal`` method of a ``default_rng()``\n",
       "    instance instead; see `random-quick-start`.\n",
       "\n",
       "Parameters\n",
       "----------\n",
       "loc : float or array_like of floats\n",
       "    Mean (\"centre\") of the distribution.\n",
       "scale : float or array_like of floats\n",
       "    Standard deviation (spread or \"width\") of the distribution. Must be\n",
       "    non-negative.\n",
       "size : int or tuple of ints, optional\n",
       "    Output shape.  If the given shape is, e.g., ``(m, n, k)``, then\n",
       "    ``m * n * k`` samples are drawn.  If size is ``None`` (default),\n",
       "    a single value is returned if ``loc`` and ``scale`` are both scalars.\n",
       "    Otherwise, ``np.broadcast(loc, scale).size`` samples are drawn.\n",
       "\n",
       "Returns\n",
       "-------\n",
       "out : ndarray or scalar\n",
       "    Drawn samples from the parameterized normal distribution.\n",
       "\n",
       "See Also\n",
       "--------\n",
       "scipy.stats.norm : probability density function, distribution or\n",
       "    cumulative density function, etc.\n",
       "Generator.normal: which should be used for new code.\n",
       "\n",
       "Notes\n",
       "-----\n",
       "The probability density for the Gaussian distribution is\n",
       "\n",
       ".. math:: p(x) = \\frac{1}{\\sqrt{ 2 \\pi \\sigma^2 }}\n",
       "                 e^{ - \\frac{ (x - \\mu)^2 } {2 \\sigma^2} },\n",
       "\n",
       "where :math:`\\mu` is the mean and :math:`\\sigma` the standard\n",
       "deviation. The square of the standard deviation, :math:`\\sigma^2`,\n",
       "is called the variance.\n",
       "\n",
       "The function has its peak at the mean, and its \"spread\" increases with\n",
       "the standard deviation (the function reaches 0.607 times its maximum at\n",
       ":math:`x + \\sigma` and :math:`x - \\sigma` [2]_).  This implies that\n",
       "normal is more likely to return samples lying close to the mean, rather\n",
       "than those far away.\n",
       "\n",
       "References\n",
       "----------\n",
       ".. [1] Wikipedia, \"Normal distribution\",\n",
       "       https://en.wikipedia.org/wiki/Normal_distribution\n",
       ".. [2] P. R. Peebles Jr., \"Central Limit Theorem\" in \"Probability,\n",
       "       Random Variables and Random Signal Principles\", 4th ed., 2001,\n",
       "       pp. 51, 51, 125.\n",
       "\n",
       "Examples\n",
       "--------\n",
       "Draw samples from the distribution:\n",
       "\n",
       ">>> mu, sigma = 0, 0.1 # mean and standard deviation\n",
       ">>> s = np.random.normal(mu, sigma, 1000)\n",
       "\n",
       "Verify the mean and the variance:\n",
       "\n",
       ">>> abs(mu - np.mean(s))\n",
       "0.0  # may vary\n",
       "\n",
       ">>> abs(sigma - np.std(s, ddof=1))\n",
       "0.1  # may vary\n",
       "\n",
       "Display the histogram of the samples, along with\n",
       "the probability density function:\n",
       "\n",
       ">>> import matplotlib.pyplot as plt\n",
       ">>> count, bins, ignored = plt.hist(s, 30, density=True)\n",
       ">>> plt.plot(bins, 1/(sigma * np.sqrt(2 * np.pi)) *\n",
       "...                np.exp( - (bins - mu)**2 / (2 * sigma**2) ),\n",
       "...          linewidth=2, color='r')\n",
       ">>> plt.show()\n",
       "\n",
       "Two-by-four array of samples from N(3, 6.25):\n",
       "\n",
       ">>> np.random.normal(3, 2.5, size=(2, 4))\n",
       "array([[-4.49401501,  4.00950034, -1.81814867,  7.29718677],   # random\n",
       "       [ 0.39924804,  4.68456316,  4.99394529,  4.84057254]])  # random\n",
       "\u001b[1;31mType:\u001b[0m      builtin_function_or_method\n"
      ]
     },
     "metadata": {},
     "output_type": "display_data"
    }
   ],
   "source": [
    "n1 = np.random.normal??"
   ]
  },
  {
   "cell_type": "code",
   "execution_count": null,
   "metadata": {},
   "outputs": [],
   "source": [
    "n1 = np.random.normal"
   ]
  },
  {
   "cell_type": "code",
   "execution_count": 37,
   "metadata": {},
   "outputs": [],
   "source": [
    "n1 = np.random.normal"
   ]
  },
  {
   "cell_type": "code",
   "execution_count": 38,
   "metadata": {},
   "outputs": [],
   "source": [
    "n1 = np.random.normal"
   ]
  },
  {
   "cell_type": "code",
   "execution_count": 39,
   "metadata": {},
   "outputs": [],
   "source": [
    "n1 = np.random.normal"
   ]
  },
  {
   "cell_type": "code",
   "execution_count": 40,
   "metadata": {},
   "outputs": [
    {
     "data": {
      "text/plain": [
       "array([-1.19828339, -2.39266163,  2.21454951,  1.6083447 ,  1.0144049 ,\n",
       "       -0.00668675, -0.21885649,  0.546662  , -3.3479672 ,  0.81607409,\n",
       "        0.51398187,  0.66779056,  0.57824886, -0.02963641,  1.45335662,\n",
       "        1.02172945,  1.2560568 ,  0.82521622, -0.36314762,  0.98928772,\n",
       "       -1.24399546, -1.83249738,  0.659317  ,  1.48743585, -0.34214357,\n",
       "       -1.24699304, -0.57462801, -1.0205246 , -0.38134177,  0.92453771,\n",
       "       -0.32737281,  1.14651393, -1.83580378, -0.26001891, -0.25040096,\n",
       "        0.1619317 , -1.56348488,  0.0877453 ,  0.68706553,  0.03449947,\n",
       "       -0.88874374, -1.15182776,  0.37429567, -0.67179781, -1.25588917,\n",
       "        0.78068717,  1.152884  ,  0.99091831, -1.01192187, -0.03463624,\n",
       "       -0.22860039, -0.95286065, -0.02280963,  0.00817366, -2.06792725,\n",
       "       -1.59933287, -1.63566106, -0.21174229, -1.9135709 ,  1.05226136,\n",
       "        0.08353518,  0.82690558, -1.30340685, -0.18850874, -0.24641339,\n",
       "       -0.56518373,  1.35744458, -0.58769456, -0.78613418, -0.84044919,\n",
       "        0.68981638,  1.65565755, -0.28460146,  0.25258713, -1.81967525,\n",
       "       -0.41564482,  1.44795491,  1.43483856, -1.29028859, -1.52490801,\n",
       "        1.38156506, -1.69373156,  0.07713026,  0.65744053,  0.99303525,\n",
       "       -1.24549176,  1.21794831, -0.5181392 ,  1.91249997, -0.43538516,\n",
       "        2.79980771,  0.6287047 ,  0.40703708,  1.63223724,  1.9274377 ,\n",
       "        0.42097713, -0.64660954,  0.29800543,  1.35233271, -0.94973515])"
      ]
     },
     "execution_count": 40,
     "metadata": {},
     "output_type": "execute_result"
    }
   ],
   "source": [
    "'''\n",
    "100 draws from a normal distribution\n",
    "with mean = 0,\n",
    "standard deviation = 1\n",
    "'''\n",
    "\n",
    "n = np.random.normal(0,1,size=100)\n",
    "n"
   ]
  },
  {
   "cell_type": "code",
   "execution_count": 41,
   "metadata": {},
   "outputs": [
    {
     "data": {
      "text/plain": [
       "<matplotlib.axes._subplots.AxesSubplot at 0x1fed43efb88>"
      ]
     },
     "execution_count": 41,
     "metadata": {},
     "output_type": "execute_result"
    },
    {
     "data": {
      "image/png": "[encoded data removed]",
      "text/plain": [
       "<Figure size 432x288 with 1 Axes>"
      ]
     },
     "metadata": {
      "needs_background": "light"
     },
     "output_type": "display_data"
    }
   ],
   "source": [
    "sns.distplot(n, **d)"
   ]
  },
  {
   "cell_type": "code",
   "execution_count": 42,
   "metadata": {},
   "outputs": [
    {
     "data": {
      "text/plain": [
       "<matplotlib.axes._subplots.AxesSubplot at 0x1fed445fec8>"
      ]
     },
     "execution_count": 42,
     "metadata": {},
     "output_type": "execute_result"
    },
    {
     "data": {
      "image/png": "[encoded data removed]",
      "text/plain": [
       "<Figure size 432x288 with 1 Axes>"
      ]
     },
     "metadata": {
      "needs_background": "light"
     },
     "output_type": "display_data"
    }
   ],
   "source": [
    "'''\n",
    "1,000 draws from a normal distribution\n",
    "with mean = 0,\n",
    "standard deviation = 1\n",
    "'''\n",
    "\n",
    "n1000 = np.random.normal(0,1,size=1000)\n",
    "sns.distplot(n1000, **d)"
   ]
  },
  {
   "cell_type": "code",
   "execution_count": 43,
   "metadata": {},
   "outputs": [
    {
     "data": {
      "text/plain": [
       "<matplotlib.axes._subplots.AxesSubplot at 0x1fed4509608>"
      ]
     },
     "execution_count": 43,
     "metadata": {},
     "output_type": "execute_result"
    },
    {
     "data": {
      "image/png": "[encoded data removed]",
      "text/plain": [
       "<Figure size 432x288 with 1 Axes>"
      ]
     },
     "metadata": {
      "needs_background": "light"
     },
     "output_type": "display_data"
    }
   ],
   "source": [
    "'''\n",
    "100,000 draws from a normal distribution\n",
    "with mean = 0,\n",
    "standard deviation = 1\n",
    "'''\n",
    "\n",
    "n100000 = np.random.normal(0,1,size=100000)\n",
    "sns.distplot(n100000, **d)"
   ]
  },
  {
   "cell_type": "code",
   "execution_count": 44,
   "metadata": {},
   "outputs": [
    {
     "data": {
      "text/plain": [
       "<matplotlib.axes._subplots.AxesSubplot at 0x1fed55e80c8>"
      ]
     },
     "execution_count": 44,
     "metadata": {},
     "output_type": "execute_result"
    },
    {
     "data": {
      "image/png": "[encoded data removed]",
      "text/plain": [
       "<Figure size 432x288 with 1 Axes>"
      ]
     },
     "metadata": {
      "needs_background": "light"
     },
     "output_type": "display_data"
    }
   ],
   "source": [
    "'''\n",
    "100,000 draws from a normal distribution\n",
    "with mean = 10,\n",
    "standard deviation = 1\n",
    "'''\n",
    "\n",
    "mean10 = np.random.normal(10, 1, size=100000)\n",
    "sns.distplot(mean10, **d)"
   ]
  },
  {
   "cell_type": "code",
   "execution_count": 45,
   "metadata": {},
   "outputs": [
    {
     "data": {
      "text/plain": [
       "<matplotlib.axes._subplots.AxesSubplot at 0x1fed56c1a48>"
      ]
     },
     "execution_count": 45,
     "metadata": {},
     "output_type": "execute_result"
    },
    {
     "data": {
      "image/png": "[encoded data removed]",
      "text/plain": [
       "<Figure size 432x288 with 1 Axes>"
      ]
     },
     "metadata": {
      "needs_background": "light"
     },
     "output_type": "display_data"
    }
   ],
   "source": [
    "'''\n",
    "100,000 draws from a normal distribution\n",
    "with mean = -10,\n",
    "standard deviation = 1\n",
    "'''\n",
    "\n",
    "mean_minus_10 = np.random.normal(-10, 1, size=100000)\n",
    "sns.distplot(mean_minus_10, **d)"
   ]
  },
  {
   "cell_type": "code",
   "execution_count": 46,
   "metadata": {},
   "outputs": [
    {
     "data": {
      "text/plain": [
       "<matplotlib.axes._subplots.AxesSubplot at 0x1fed57990c8>"
      ]
     },
     "execution_count": 46,
     "metadata": {},
     "output_type": "execute_result"
    },
    {
     "data": {
      "image/png": "[encoded data removed]",
      "text/plain": [
       "<Figure size 432x288 with 1 Axes>"
      ]
     },
     "metadata": {
      "needs_background": "light"
     },
     "output_type": "display_data"
    }
   ],
   "source": [
    "'''\n",
    "100,000 draws from a normal distribution\n",
    "with mean = 0,\n",
    "standard deviation = 1\n",
    "'''\n",
    "mean_0_sd_1 = np.random.normal(0, 1, size=100000)\n",
    "sns.distplot(mean_0_sd_1, **d)"
   ]
  },
  {
   "cell_type": "code",
   "execution_count": 47,
   "metadata": {},
   "outputs": [
    {
     "data": {
      "text/plain": [
       "<matplotlib.axes._subplots.AxesSubplot at 0x1fed1db9548>"
      ]
     },
     "execution_count": 47,
     "metadata": {},
     "output_type": "execute_result"
    },
    {
     "data": {
      "image/png": "[encoded data removed]",
      "text/plain": [
       "<Figure size 432x288 with 1 Axes>"
      ]
     },
     "metadata": {
      "needs_background": "light"
     },
     "output_type": "display_data"
    }
   ],
   "source": [
    "'''\n",
    "100,000 draws from a normal distribution\n",
    "with mean = 0,\n",
    "standard deviation = 2\n",
    "'''\n",
    "mean_0_sd_2 = np.random.normal(0, 2, size=100000)\n",
    "sns.distplot(mean_0_sd_2, **d)"
   ]
  },
  {
   "cell_type": "code",
   "execution_count": 48,
   "metadata": {},
   "outputs": [
    {
     "data": {
      "text/plain": [
       "<matplotlib.axes._subplots.AxesSubplot at 0x1fed598e188>"
      ]
     },
     "execution_count": 48,
     "metadata": {},
     "output_type": "execute_result"
    },
    {
     "data": {
      "image/png": "[encoded data removed]",
      "text/plain": [
       "<Figure size 432x288 with 1 Axes>"
      ]
     },
     "metadata": {
      "needs_background": "light"
     },
     "output_type": "display_data"
    }
   ],
   "source": [
    "'''\n",
    "100,000 draws from a normal distribution\n",
    "with mean = 0,\n",
    "standard deviation = 5\n",
    "'''\n",
    "mean_0_sd_5 = np.random.normal(0, 5, size=100000)\n",
    "sns.distplot(mean_0_sd_5, **d)"
   ]
  },
  {
   "cell_type": "code",
   "execution_count": 49,
   "metadata": {},
   "outputs": [
    {
     "data": {
      "text/plain": [
       "<matplotlib.axes._subplots.AxesSubplot at 0x1fed5a821c8>"
      ]
     },
     "execution_count": 49,
     "metadata": {},
     "output_type": "execute_result"
    },
    {
     "data": {
      "image/png": "[encoded data removed]",
      "text/plain": [
       "<Figure size 432x288 with 1 Axes>"
      ]
     },
     "metadata": {
      "needs_background": "light"
     },
     "output_type": "display_data"
    }
   ],
   "source": [
    "'''\n",
    "100,000 draws from a normal distribution\n",
    "with mean = 0,\n",
    "standard deviation = 10\n",
    "'''\n",
    "\n",
    "mean_0_sd_10 = np.random.normal(0, 10, size=100000)\n",
    "sns.distplot(mean_0_sd_10, **d, fit=stats.norm)"
   ]
  },
  {
   "cell_type": "code",
   "execution_count": 50,
   "metadata": {},
   "outputs": [
    {
     "data": {
      "text/plain": [
       "<matplotlib.axes._subplots.AxesSubplot at 0x1fed5daff48>"
      ]
     },
     "execution_count": 50,
     "metadata": {},
     "output_type": "execute_result"
    },
    {
     "data": {
      "image/png": "[encoded data removed]",
      "text/plain": [
       "<Figure size 432x288 with 1 Axes>"
      ]
     },
     "metadata": {
      "needs_background": "light"
     },
     "output_type": "display_data"
    }
   ],
   "source": [
    "'''\n",
    "100,000 draws from a normal distribution\n",
    "with mean = 0,\n",
    "standard deviation = 100\n",
    "'''\n",
    "mean_0_sd_100 = np.random.normal(0, 100, size=100000)\n",
    "sns.distplot(mean_0_sd_100, **d, fit=stats.norm)"
   ]
  }
 ],
 "metadata": {
  "kernelspec": {
   "display_name": "Python 3",
   "language": "python",
   "name": "python3"
  },
  "language_info": {
   "codemirror_mode": {
    "name": "ipython",
    "version": 3
   },
   "file_extension": ".py",
   "mimetype": "text/x-python",
   "name": "python",
   "nbconvert_exporter": "python",
   "pygments_lexer": "ipython3",
   "version": "3.7.7"
  }
 },
 "nbformat": 4,
 "nbformat_minor": 4
}
